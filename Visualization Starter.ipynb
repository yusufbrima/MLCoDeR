{
 "cells": [
  {
   "cell_type": "code",
   "execution_count": 52,
   "id": "52cf8aad",
   "metadata": {},
   "outputs": [],
   "source": [
    "%matplotlib inline\n",
    "import pandas as pd\n",
    "import os\n",
    "import numpy as np\n",
    "import seaborn as sns\n",
    "import matplotlib.pylab as plt  \n",
    "from matplotlib.font_manager import FontProperties\n",
    "from celluloid import Camera # getting the camera\n",
    "from IPython.display import HTML # to show the animation in Jupyter\n",
    "import warnings\n",
    "warnings.simplefilter(action='ignore')\n",
    "fontP = FontProperties()\n",
    "fontP.set_size('xx-small')"
   ]
  },
  {
   "cell_type": "code",
   "execution_count": null,
   "id": "5bea6bcc",
   "metadata": {},
   "outputs": [],
   "source": []
  },
  {
   "cell_type": "code",
   "execution_count": 4,
   "id": "60481183",
   "metadata": {},
   "outputs": [],
   "source": [
    "# Setting up the path to store figures created in the starter notebook\n",
    "src = 'src'\n",
    "if not os.path.exists(src):\n",
    "    os.mkdir(src)"
   ]
  },
  {
   "cell_type": "code",
   "execution_count": 5,
   "id": "917d2051",
   "metadata": {},
   "outputs": [],
   "source": [
    "path = os.getcwd()\n",
    "figure =  os.path.join(path,'src')"
   ]
  },
  {
   "cell_type": "code",
   "execution_count": 25,
   "id": "30bb3441",
   "metadata": {},
   "outputs": [],
   "source": [
    "def plot_fig(x,y,title=\"Figure\",name=\"plot\",figsize=(8,6),dpi=300,save=False):\n",
    "    fig= plt.figure(figsize=figsize,dpi=dpi)\n",
    "    plt.plot(x,y)\n",
    "    plt.xlabel(\"x\",fontsize=12)\n",
    "    plt.ylabel(\"y\",fontsize=12)\n",
    "#     plt.legend([],fontsize=12)\n",
    "    plt.title(title,fontsize=12)\n",
    "    plt.tight_layout()\n",
    "    if save:\n",
    "        plt.savefig(f'{figure}/{name}.pdf',bbox_inches='tight', dpi=300)\n",
    "    plt.show()"
   ]
  },
  {
   "cell_type": "code",
   "execution_count": 33,
   "id": "b6b784f0",
   "metadata": {},
   "outputs": [],
   "source": [
    "# We are generating some synthetic data to create simple line graphs\n",
    "\n",
    "b = np.random.normal(0.5,2.47,50)\n",
    "x  =  np.linspace(0,100,50)\n",
    "y =  2*x + b"
   ]
  },
  {
   "cell_type": "code",
   "execution_count": 35,
   "id": "d3c6a898",
   "metadata": {},
   "outputs": [
    {
     "data": {
      "image/png": "[encoded data removed]",
      "text/plain": [
       "<Figure size 480x360 with 1 Axes>"
      ]
     },
     "metadata": {
      "needs_background": "light"
     },
     "output_type": "display_data"
    }
   ],
   "source": [
    "# An illustration of plotting with the defined function in the above cell\n",
    "\n",
    "plot_fig(x,y,save=False,dpi=60)"
   ]
  },
  {
   "cell_type": "code",
   "execution_count": 138,
   "id": "c9565ba1",
   "metadata": {},
   "outputs": [
    {
     "data": {
      "text/html": [
       "<div>\n",
       "<style scoped>\n",
       "    .dataframe tbody tr th:only-of-type {\n",
       "        vertical-align: middle;\n",
       "    }\n",
       "\n",
       "    .dataframe tbody tr th {\n",
       "        vertical-align: top;\n",
       "    }\n",
       "\n",
       "    .dataframe thead th {\n",
       "        text-align: right;\n",
       "    }\n",
       "</style>\n",
       "<table border=\"1\" class=\"dataframe\">\n",
       "  <thead>\n",
       "    <tr style=\"text-align: right;\">\n",
       "      <th></th>\n",
       "      <th>year</th>\n",
       "      <th>papers</th>\n",
       "    </tr>\n",
       "  </thead>\n",
       "  <tbody>\n",
       "    <tr>\n",
       "      <th>0</th>\n",
       "      <td>2019</td>\n",
       "      <td>20</td>\n",
       "    </tr>\n",
       "    <tr>\n",
       "      <th>1</th>\n",
       "      <td>2020</td>\n",
       "      <td>40</td>\n",
       "    </tr>\n",
       "    <tr>\n",
       "      <th>2</th>\n",
       "      <td>2021</td>\n",
       "      <td>40</td>\n",
       "    </tr>\n",
       "  </tbody>\n",
       "</table>\n",
       "</div>"
      ],
      "text/plain": [
       "   year  papers\n",
       "0  2019      20\n",
       "1  2020      40\n",
       "2  2021      40"
      ]
     },
     "execution_count": 138,
     "metadata": {},
     "output_type": "execute_result"
    }
   ],
   "source": [
    "# We are generating some fake data \n",
    "data =  {'year': [2019,2020,2021],'papers': [20,40,40] }\n",
    "\n",
    "df =  pd.DataFrame(data)\n",
    "df"
   ]
  },
  {
   "cell_type": "code",
   "execution_count": 137,
   "id": "c1787389",
   "metadata": {},
   "outputs": [],
   "source": [
    "# Set the palette to the \"pastel\" default palette:\n",
    "sns.set_palette(\"pastel\")  # one can find more color palette names here https://seaborn.pydata.org/generated/seaborn.color_palette.html"
   ]
  },
  {
   "cell_type": "code",
   "execution_count": 131,
   "id": "8bea363a",
   "metadata": {},
   "outputs": [
    {
     "data": {
      "image/png": "[encoded data removed]",
      "text/plain": [
       "<Figure size 432x288 with 1 Axes>"
      ]
     },
     "metadata": {
      "needs_background": "light"
     },
     "output_type": "display_data"
    }
   ],
   "source": [
    "ax = sns.barplot(x = 'year',\n",
    "            y = 'papers',\n",
    "            data = df,\n",
    "            palette = \"Blues\")\n",
    "ax.set_xlabel(\"Year\",fontsize=12)\n",
    "ax.set_ylabel(\"Papers\",fontsize=12)\n",
    "sns.despine(left=True, bottom=True)\n",
    "plt.show()"
   ]
  },
  {
   "cell_type": "code",
   "execution_count": 132,
   "id": "b6eac2bc",
   "metadata": {},
   "outputs": [],
   "source": [
    "df =  pd.read_csv('dataset.csv')"
   ]
  },
  {
   "cell_type": "code",
   "execution_count": 133,
   "id": "e8cf8548",
   "metadata": {},
   "outputs": [
    {
     "data": {
      "text/html": [
       "<div>\n",
       "<style scoped>\n",
       "    .dataframe tbody tr th:only-of-type {\n",
       "        vertical-align: middle;\n",
       "    }\n",
       "\n",
       "    .dataframe tbody tr th {\n",
       "        vertical-align: top;\n",
       "    }\n",
       "\n",
       "    .dataframe thead th {\n",
       "        text-align: right;\n",
       "    }\n",
       "</style>\n",
       "<table border=\"1\" class=\"dataframe\">\n",
       "  <thead>\n",
       "    <tr style=\"text-align: right;\">\n",
       "      <th></th>\n",
       "      <th>Year</th>\n",
       "      <th>Method</th>\n",
       "      <th>Data</th>\n",
       "      <th>Count</th>\n",
       "    </tr>\n",
       "  </thead>\n",
       "  <tbody>\n",
       "    <tr>\n",
       "      <th>0</th>\n",
       "      <td>2019</td>\n",
       "      <td>AlexNet</td>\n",
       "      <td>X-ray</td>\n",
       "      <td>20</td>\n",
       "    </tr>\n",
       "    <tr>\n",
       "      <th>1</th>\n",
       "      <td>2019</td>\n",
       "      <td>VGG-19</td>\n",
       "      <td>X-ray</td>\n",
       "      <td>2</td>\n",
       "    </tr>\n",
       "    <tr>\n",
       "      <th>2</th>\n",
       "      <td>2019</td>\n",
       "      <td>ResNet-50</td>\n",
       "      <td>X-ray</td>\n",
       "      <td>31</td>\n",
       "    </tr>\n",
       "    <tr>\n",
       "      <th>3</th>\n",
       "      <td>2019</td>\n",
       "      <td>LSTM</td>\n",
       "      <td>X-ray</td>\n",
       "      <td>12</td>\n",
       "    </tr>\n",
       "    <tr>\n",
       "      <th>4</th>\n",
       "      <td>2019</td>\n",
       "      <td>DT</td>\n",
       "      <td>X-ray</td>\n",
       "      <td>6</td>\n",
       "    </tr>\n",
       "  </tbody>\n",
       "</table>\n",
       "</div>"
      ],
      "text/plain": [
       "   Year     Method   Data  Count\n",
       "0  2019    AlexNet  X-ray     20\n",
       "1  2019     VGG-19  X-ray      2\n",
       "2  2019  ResNet-50  X-ray     31\n",
       "3  2019       LSTM  X-ray     12\n",
       "4  2019         DT  X-ray      6"
      ]
     },
     "execution_count": 133,
     "metadata": {},
     "output_type": "execute_result"
    }
   ],
   "source": [
    "df.head()"
   ]
  },
  {
   "cell_type": "code",
   "execution_count": 135,
   "id": "04159ed8",
   "metadata": {},
   "outputs": [
    {
     "data": {
      "image/png": "[encoded data removed]",
      "text/plain": [
       "<Figure size 432x288 with 1 Axes>"
      ]
     },
     "metadata": {
      "needs_background": "light"
     },
     "output_type": "display_data"
    }
   ],
   "source": [
    "ax = sns.barplot(x = 'Year',\n",
    "            y = 'Count',\n",
    "            data = df,\n",
    "             hue='Data',\n",
    "            palette = \"Blues\")\n",
    "ax.set_xlabel(\"Year\",fontsize=12)\n",
    "ax.set_ylabel(\"Count\",fontsize=12)\n",
    "sns.despine(left=True, bottom=True)\n",
    "plt.legend(bbox_to_anchor=(1.05, 1), loc=2, borderaxespad=0.)\n",
    "plt.savefig(f'{figure}/paper_by_data.pdf',bbox_inches='tight', dpi=300)\n",
    "plt.show()"
   ]
  },
  {
   "cell_type": "code",
   "execution_count": 136,
   "id": "a7f6352f",
   "metadata": {},
   "outputs": [
    {
     "data": {
      "image/png": "[encoded data removed]",
      "text/plain": [
       "<Figure size 432x288 with 1 Axes>"
      ]
     },
     "metadata": {
      "needs_background": "light"
     },
     "output_type": "display_data"
    }
   ],
   "source": [
    "ax = sns.barplot(x = 'Year',\n",
    "            y = 'Count',\n",
    "            data = df,\n",
    "             hue='Method',\n",
    "            palette = \"Blues\")\n",
    "ax.set_xlabel(\"Year\",fontsize=12)\n",
    "ax.set_ylabel(\"Count\",fontsize=12)\n",
    "sns.despine(left=True, bottom=True)\n",
    "plt.legend(bbox_to_anchor=(1.05, 1), loc=2, borderaxespad=0.)\n",
    "plt.savefig(f'{figure}/paper_by_method.pdf',bbox_inches='tight', dpi=300)\n",
    "plt.show()"
   ]
  },
  {
   "cell_type": "code",
   "execution_count": 139,
   "id": "de78a012",
   "metadata": {},
   "outputs": [],
   "source": [
    "df =  pd.read_csv('mclass.csv')"
   ]
  },
  {
   "cell_type": "code",
   "execution_count": 140,
   "id": "693d3a14",
   "metadata": {},
   "outputs": [
    {
     "data": {
      "text/html": [
       "<div>\n",
       "<style scoped>\n",
       "    .dataframe tbody tr th:only-of-type {\n",
       "        vertical-align: middle;\n",
       "    }\n",
       "\n",
       "    .dataframe tbody tr th {\n",
       "        vertical-align: top;\n",
       "    }\n",
       "\n",
       "    .dataframe thead th {\n",
       "        text-align: right;\n",
       "    }\n",
       "</style>\n",
       "<table border=\"1\" class=\"dataframe\">\n",
       "  <thead>\n",
       "    <tr style=\"text-align: right;\">\n",
       "      <th></th>\n",
       "      <th>Year</th>\n",
       "      <th>Class</th>\n",
       "      <th>Count</th>\n",
       "    </tr>\n",
       "  </thead>\n",
       "  <tbody>\n",
       "    <tr>\n",
       "      <th>0</th>\n",
       "      <td>2019</td>\n",
       "      <td>Multi-class</td>\n",
       "      <td>10</td>\n",
       "    </tr>\n",
       "    <tr>\n",
       "      <th>1</th>\n",
       "      <td>2019</td>\n",
       "      <td>Binary</td>\n",
       "      <td>20</td>\n",
       "    </tr>\n",
       "    <tr>\n",
       "      <th>2</th>\n",
       "      <td>2019</td>\n",
       "      <td>Both</td>\n",
       "      <td>5</td>\n",
       "    </tr>\n",
       "    <tr>\n",
       "      <th>3</th>\n",
       "      <td>2020</td>\n",
       "      <td>Multi-class</td>\n",
       "      <td>50</td>\n",
       "    </tr>\n",
       "    <tr>\n",
       "      <th>4</th>\n",
       "      <td>2020</td>\n",
       "      <td>Binary</td>\n",
       "      <td>30</td>\n",
       "    </tr>\n",
       "  </tbody>\n",
       "</table>\n",
       "</div>"
      ],
      "text/plain": [
       "   Year        Class  Count\n",
       "0  2019  Multi-class     10\n",
       "1  2019       Binary     20\n",
       "2  2019         Both      5\n",
       "3  2020  Multi-class     50\n",
       "4  2020       Binary     30"
      ]
     },
     "execution_count": 140,
     "metadata": {},
     "output_type": "execute_result"
    }
   ],
   "source": [
    "df.head()"
   ]
  },
  {
   "cell_type": "code",
   "execution_count": 141,
   "id": "a1506420",
   "metadata": {},
   "outputs": [
    {
     "data": {
      "image/png": "[encoded data removed]",
      "text/plain": [
       "<Figure size 432x288 with 1 Axes>"
      ]
     },
     "metadata": {
      "needs_background": "light"
     },
     "output_type": "display_data"
    }
   ],
   "source": [
    "ax = sns.barplot(x = 'Year',\n",
    "            y = 'Count',\n",
    "            data = df,\n",
    "             hue='Class',\n",
    "            palette = \"Blues\")\n",
    "ax.set_xlabel(\"Year\",fontsize=12)\n",
    "ax.set_ylabel(\"Count\",fontsize=12)\n",
    "sns.despine(left=True, bottom=True)\n",
    "plt.legend(bbox_to_anchor=(1.05, 1), loc=2, borderaxespad=0.)\n",
    "plt.savefig(f'{figure}/paper_by_task.pdf',bbox_inches='tight', dpi=300)\n",
    "plt.show()"
   ]
  },
  {
   "cell_type": "code",
   "execution_count": null,
   "id": "9bb1f9ba",
   "metadata": {},
   "outputs": [],
   "source": []
  }
 ],
 "metadata": {
  "kernelspec": {
   "display_name": "Python 3",
   "language": "python",
   "name": "python3"
  },
  "language_info": {
   "codemirror_mode": {
    "name": "ipython",
    "version": 3
   },
   "file_extension": ".py",
   "mimetype": "text/x-python",
   "name": "python",
   "nbconvert_exporter": "python",
   "pygments_lexer": "ipython3",
   "version": "3.9.5"
  }
 },
 "nbformat": 4,
 "nbformat_minor": 5
}
